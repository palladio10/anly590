{
 "cells": [
  {
   "cell_type": "markdown",
   "metadata": {},
   "source": [
    "## 1. Regularization\n",
    "### Load data and drop items which prices are N/A"
   ]
  },
  {
   "cell_type": "code",
   "execution_count": 78,
   "metadata": {},
   "outputs": [
    {
     "name": "stdout",
     "output_type": "stream",
     "text": [
      "            AtBat        Hits       HmRun        Runs         RBI       Walks  \\\n",
      "count  263.000000  263.000000  263.000000  263.000000  263.000000  263.000000   \n",
      "mean   403.642586  107.828897   11.619772   54.745247   51.486692   41.114068   \n",
      "std    147.307209   45.125326    8.757108   25.539816   25.882714   21.718056   \n",
      "min     19.000000    1.000000    0.000000    0.000000    0.000000    0.000000   \n",
      "25%    282.500000   71.500000    5.000000   33.500000   30.000000   23.000000   \n",
      "50%    413.000000  103.000000    9.000000   52.000000   47.000000   37.000000   \n",
      "75%    526.000000  141.500000   18.000000   73.000000   71.000000   57.000000   \n",
      "max    687.000000  238.000000   40.000000  130.000000  121.000000  105.000000   \n",
      "\n",
      "            Years        CAtBat        CHits      CHmRun        CRuns  \\\n",
      "count  263.000000    263.000000   263.000000  263.000000   263.000000   \n",
      "mean     7.311787   2657.543726   722.186312   69.239544   361.220532   \n",
      "std      4.793616   2286.582929   648.199644   82.197581   331.198571   \n",
      "min      1.000000     19.000000     4.000000    0.000000     2.000000   \n",
      "25%      4.000000    842.500000   212.000000   15.000000   105.500000   \n",
      "50%      6.000000   1931.000000   516.000000   40.000000   250.000000   \n",
      "75%     10.000000   3890.500000  1054.000000   92.500000   497.500000   \n",
      "max     24.000000  14053.000000  4256.000000  548.000000  2165.000000   \n",
      "\n",
      "              CRBI       CWalks      PutOuts     Assists      Errors  \n",
      "count   263.000000   263.000000   263.000000  263.000000  263.000000  \n",
      "mean    330.418251   260.266160   290.711027  118.760456    8.593156  \n",
      "std     323.367668   264.055868   279.934575  145.080577    6.606574  \n",
      "min       3.000000     1.000000     0.000000    0.000000    0.000000  \n",
      "25%      95.000000    71.000000   113.500000    8.000000    3.000000  \n",
      "50%     230.000000   174.000000   224.000000   45.000000    7.000000  \n",
      "75%     424.500000   328.500000   322.500000  192.000000   13.000000  \n",
      "max    1659.000000  1566.000000  1377.000000  492.000000   32.000000  \n",
      "\n",
      "count     263.000000\n",
      "mean      535.925882\n",
      "std       451.118681\n",
      "min        67.500000\n",
      "25%       190.000000\n",
      "50%       425.000000\n",
      "75%       750.000000\n",
      "max      2460.000000\n",
      "Name: Salary, dtype: float64\n"
     ]
    }
   ],
   "source": [
    "import pandas as pd\n",
    "import numpy as np\n",
    "df = pd.read_csv(\"Hitters.csv\")\n",
    "df = df.dropna()\n",
    "#print(len(df))\n",
    "#print(df.describe())\n",
    "features = [\"AtBat\", \"Hits\", \"HmRun\", \"Runs\", \"RBI\", \"Walks\", \n",
    "            \"Years\", \"CAtBat\", \"CHits\", \"CHmRun\", \"CRuns\",\n",
    "           \"CRBI\", \"CWalks\", \"PutOuts\", \"Assists\", \"Errors\"]\n",
    "X = df[features]\n",
    "print(X.describe())\n",
    "y = df[\"Salary\"]\n",
    "print()\n",
    "print(y.describe())"
   ]
  },
  {
   "cell_type": "markdown",
   "metadata": {},
   "source": [
    "### 1.1 LASSO regression\n"
   ]
  },
  {
   "cell_type": "code",
   "execution_count": 112,
   "metadata": {},
   "outputs": [
    {
     "data": {
      "text/plain": [
       "Lasso(alpha=10, copy_X=True, fit_intercept=True, max_iter=1000,\n",
       "   normalize=True, positive=False, precompute=False, random_state=None,\n",
       "   selection='cyclic', tol=0.0001, warm_start=False)"
      ]
     },
     "execution_count": 112,
     "metadata": {},
     "output_type": "execute_result"
    }
   ],
   "source": [
    "from sklearn.linear_model import Lasso\n",
    "lasso = Lasso(alpha=10, normalize=True)\n",
    "lasso.fit(X, y)\n",
    "#lasso.score(X, y)\n",
    "#print(lasso.coef_)"
   ]
  },
  {
   "cell_type": "markdown",
   "metadata": {},
   "source": [
    "#### 1.1.1 Create a visulization of the coefficient trajectories"
   ]
  },
  {
   "cell_type": "code",
   "execution_count": 113,
   "metadata": {},
   "outputs": [
    {
     "data": {
      "image/png": "[encoded data removed]",
      "text/plain": [
       "<matplotlib.figure.Figure at 0x110ff71d0>"
      ]
     },
     "metadata": {},
     "output_type": "display_data"
    }
   ],
   "source": [
    "import matplotlib.pyplot as plt\n",
    "%matplotlib inline\n",
    "\n",
    "def plot_coefficient(features, model):\n",
    "    fig, ax = plt.subplots()\n",
    "\n",
    "    y_pos = np.arange(len(features))\n",
    "    ax.barh(y_pos, model.coef_)\n",
    "    ax.set_yticks(y_pos)\n",
    "    ax.set_yticklabels(features)\n",
    "    ax.set_xlabel(\"Value\")\n",
    "    ax.set_title('Coefficient trajectories')\n",
    "    plt.show()\n",
    "\n",
    "    \n",
    "plot_coefficient(features, lasso)"
   ]
  },
  {
   "cell_type": "markdown",
   "metadata": {},
   "source": [
    "#### 1.1.2 Comment on which are final three predictors that remain in the model\n",
    "CRBI, CRuns and Hits"
   ]
  },
  {
   "cell_type": "markdown",
   "metadata": {},
   "source": [
    "#### 1.1.3 Use cross-validation to find the optimal value of the regularization penalty"
   ]
  },
  {
   "cell_type": "code",
   "execution_count": 114,
   "metadata": {},
   "outputs": [
    {
     "name": "stdout",
     "output_type": "stream",
     "text": [
      "optimal value of the regularization penalty: 0.06309284415330092\n"
     ]
    }
   ],
   "source": [
    "alphas = 10**np.linspace(5,-3,100)*0.5\n",
    "#print(alphas)\n",
    "from sklearn.linear_model import LassoCV\n",
    "lassoCV = LassoCV(alphas=alphas, normalize=True, cv=10, max_iter=10000, random_state=10)\n",
    "lassoCV.fit(X, y)\n",
    "print(\"optimal value of the regularization penalty: {}\".format(lassoCV.alpha_))\n",
    "#lassoCV.score(X, y)"
   ]
  },
  {
   "cell_type": "markdown",
   "metadata": {},
   "source": [
    "#### 1.1.4 How many predictors are left in that model?\n",
    "Plot the coefficient"
   ]
  },
  {
   "cell_type": "code",
   "execution_count": 115,
   "metadata": {},
   "outputs": [
    {
     "data": {
      "image/png": "[encoded data removed]",
      "text/plain": [
       "<matplotlib.figure.Figure at 0x110ff7358>"
      ]
     },
     "metadata": {},
     "output_type": "display_data"
    }
   ],
   "source": [
    "plot_coefficient(features, lassoCV)"
   ]
  },
  {
   "cell_type": "markdown",
   "metadata": {},
   "source": [
    "14 predictors are left."
   ]
  },
  {
   "cell_type": "markdown",
   "metadata": {},
   "source": [
    "### 1.2 Ridge regression"
   ]
  },
  {
   "cell_type": "code",
   "execution_count": 116,
   "metadata": {},
   "outputs": [
    {
     "data": {
      "text/plain": [
       "Ridge(alpha=10, copy_X=True, fit_intercept=True, max_iter=None,\n",
       "   normalize=True, random_state=None, solver='auto', tol=0.001)"
      ]
     },
     "execution_count": 116,
     "metadata": {},
     "output_type": "execute_result"
    }
   ],
   "source": [
    "from sklearn.linear_model import Ridge\n",
    "ridge = Ridge(alpha=10, normalize=True)\n",
    "ridge.fit(X, y)"
   ]
  },
  {
   "cell_type": "markdown",
   "metadata": {},
   "source": [
    "#### 1.2.1 Visualize the coefficient trajectories\n"
   ]
  },
  {
   "cell_type": "code",
   "execution_count": 117,
   "metadata": {},
   "outputs": [
    {
     "data": {
      "image/png": "[encoded data removed]",
      "text/plain": [
       "<matplotlib.figure.Figure at 0x1108f8860>"
      ]
     },
     "metadata": {},
     "output_type": "display_data"
    }
   ],
   "source": [
    "plot_coefficient(features, ridge)"
   ]
  },
  {
   "cell_type": "markdown",
   "metadata": {},
   "source": [
    "#### 1.2.2 Use cross-validation to find the optimal value of the regularization penalty\n",
    "\n"
   ]
  },
  {
   "cell_type": "code",
   "execution_count": 118,
   "metadata": {},
   "outputs": [
    {
     "name": "stdout",
     "output_type": "stream",
     "text": [
      "optimal value of the regularization penalty: 1.0282561541743258\n"
     ]
    }
   ],
   "source": [
    "from sklearn.linear_model import RidgeCV\n",
    "ridgeCV = RidgeCV(alphas=alphas, normalize=True, cv=10)\n",
    "ridgeCV.fit(X, y)\n",
    "print(\"optimal value of the regularization penalty: {}\".format(ridgeCV.alpha_))"
   ]
  },
  {
   "cell_type": "code",
   "execution_count": 119,
   "metadata": {},
   "outputs": [
    {
     "data": {
      "image/png": "[encoded data removed]",
      "text/plain": [
       "<matplotlib.figure.Figure at 0x110d290b8>"
      ]
     },
     "metadata": {},
     "output_type": "display_data"
    }
   ],
   "source": [
    "plot_coefficient(features, ridgeCV)"
   ]
  },
  {
   "cell_type": "markdown",
   "metadata": {},
   "source": [
    "## 2. Short Answer\n",
    "### 2.1 Explain in your own words the bias-variance tradeoff\n",
    "Bias is the difference between the expected or average prediction of our model and the correct value which we are trying to predict.\n",
    "\n",
    "Variance is the variability of model prediction for a given data point or a value which tells us spread of our data.\n",
    "\n",
    "A low bias model performs very well on training data but it pays too much attention to training data and does not generalize on the data which it hasn't seen before, and this leads to high variance.\n",
    "\n",
    "So we have to balance bias and variance. a low bias/high variance model is overfitting because it pays too much attention to training data and a high bias/low variance model is underfitting because it does not generalize pattern well on training data.\n",
    "### 2.2 What role does regularization play in this tradeoff? \n",
    "Regularization adds coefficient into cost function in order to prevent model to fit training data unlimitedly. So it can reduce the possibility of overfitting.\n",
    "### 2.3 Make reference to your findings in number (1) to describe models of high/low bias and variance\n",
    "Lasso Regression is high bias and low variance.\n",
    "\n",
    "Ridge Regression is low bias and high variance.\n",
    "\n",
    "Because the coefficient values of Ridge are more flexible than Lasso, Ridge Regression is more complex."
   ]
  }
 ],
 "metadata": {
  "kernelspec": {
   "display_name": "Python 3",
   "language": "python",
   "name": "python3"
  },
  "language_info": {
   "codemirror_mode": {
    "name": "ipython",
    "version": 3
   },
   "file_extension": ".py",
   "mimetype": "text/x-python",
   "name": "python",
   "nbconvert_exporter": "python",
   "pygments_lexer": "ipython3",
   "version": "3.6.3"
  }
 },
 "nbformat": 4,
 "nbformat_minor": 2
}
