{
 "cells": [
  {
   "cell_type": "markdown",
   "metadata": {},
   "source": [
    "# Github\n",
    "This is a Hello World.\n"
   ]
  },
  {
   "cell_type": "code",
   "execution_count": 1,
   "metadata": {
    "scrolled": true
   },
   "outputs": [
    {
     "name": "stdout",
     "output_type": "stream",
     "text": [
      "1\n",
      "2\n",
      "3\n",
      "1\n",
      "2\n",
      "3\n"
     ]
    }
   ],
   "source": [
    "import numpy as np\n",
    "L = [1,2,3]\n",
    "A = np.array(L)\n",
    "\n",
    "for e in L:\n",
    "    print(e)\n",
    "for e in A:\n",
    "    print(e)"
   ]
  },
  {
   "cell_type": "code",
   "execution_count": 2,
   "metadata": {},
   "outputs": [
    {
     "name": "stdout",
     "output_type": "stream",
     "text": [
      "List append [1, 2, 3, 4]\n",
      "List append with `.append` in place [1, 2, 3, 4, 4]\n",
      "List append with '+' [1, 2, 3, 4, 4, 5]\n",
      "Numpy append [1 2 3 5 6 7]\n"
     ]
    }
   ],
   "source": [
    "L.append(4)\n",
    "print(\"List append {}\".format(L))\n",
    "L.append(4)\n",
    "print(\"List append with `.append` in place {}\".format(L))\n",
    "\n",
    "L = L + [5]\n",
    "print(\"List append with '+' {}\".format(L))\n",
    "\n",
    "B = np.array([5,6,7])\n",
    "print(\"Numpy append {}\".format(np.append(A, B)))"
   ]
  },
  {
   "cell_type": "code",
   "execution_count": 13,
   "metadata": {},
   "outputs": [
    {
     "name": "stdout",
     "output_type": "stream",
     "text": [
      "List addtion `+` [2, 4, 6, 8, 8, 10]\n",
      "Numpy addition `+` [2 4 6]\n",
      "Numpy addition 1D:`+` [[1 2 3]\n",
      " [4 5 6]\n",
      " [7 8 9]]\n",
      "Numpy addition 2D:`+` [[ 2  4  6]\n",
      " [ 8 10 12]\n",
      " [14 16 18]]\n",
      "Numpy element-wise multiplication [[ 1  4  9]\n",
      " [16 25 36]\n",
      " [49 64 81]]\n",
      "Numpy element-wise integer division [[0.5 1.  1.5]\n",
      " [2.  2.5 3. ]\n",
      " [3.5 4.  4.5]]\n",
      "[[0.5 1.  1.5]\n",
      " [2.  2.5 3. ]\n",
      " [3.5 4.  4.5]]\n",
      "Scalar multiplication [2 4 6]\n",
      "Squaring [1 4 9]\n",
      "Exponentation [ 2.71828183  7.3890561  20.08553692]\n",
      "Log [0.         0.69314718 1.09861229]\n",
      "Square root [1.         1.41421356 1.73205081]\n"
     ]
    }
   ],
   "source": [
    "L2 = []\n",
    "for e in L:\n",
    "    L2.append(e + e)\n",
    "print(\"List addtion `+` {}\".format(L2))\n",
    "print(\"Numpy addition `+` {}\".format(A + A))\n",
    "M = np.array([[1,2,3],[4,5,6],[7,8,9]])\n",
    "print(\"Numpy addition 1D:`+` {}\".format(M))\n",
    "print(\"Numpy addition 2D:`+` {}\".format(M + M))\n",
    "print(\"Numpy element-wise multiplication {}\".format(M * M))\n",
    "print(\"Numpy element-wise integer division {}\".format(M /2))\n",
    "M = np.array([[1,2,3],[4,5,6],[7,8,9]], dtype=float)\n",
    "print(M/2)\n",
    "print(\"Scalar multiplication {}\".format(A * 2))\n",
    "print(\"Squaring {}\".format(A**2))\n",
    "print(\"Exponentation {}\".format(np.exp(A)))\n",
    "print(\"Log {}\".format(np.log(A)))\n",
    "print(\"Square root {}\".format(np.sqrt(A)))"
   ]
  },
  {
   "cell_type": "code",
   "execution_count": 14,
   "metadata": {},
   "outputs": [
    {
     "name": "stdout",
     "output_type": "stream",
     "text": [
      "Multiplication list: [1, 2, 3, 4, 4, 5, 1, 2, 3, 4, 4, 5]\n",
      "[0.5, 1.0, 1.5, 2.0, 2.0, 2.5]\n"
     ]
    }
   ],
   "source": [
    "print(\"Multiplication list: {}\".format(2 * L))\n",
    "L2 = []\n",
    "for e in L:\n",
    "    L2.append(e/2.0)\n",
    "print(L2)"
   ]
  },
  {
   "cell_type": "code",
   "execution_count": 15,
   "metadata": {},
   "outputs": [
    {
     "name": "stdout",
     "output_type": "stream",
     "text": [
      "The dot product is 60\n"
     ]
    }
   ],
   "source": [
    "a1 = np.array([6,2,3,4,5])\n",
    "a2 = np.array([5,4,3,2,1])\n",
    "dot_product = 0\n",
    "for e1, e2 in zip(a1, a2):\n",
    "    dot_product += e1 * e2\n",
    "print(\"The dot product is {}\".format(dot_product))"
   ]
  },
  {
   "cell_type": "code",
   "execution_count": 16,
   "metadata": {},
   "outputs": [
    {
     "name": "stdout",
     "output_type": "stream",
     "text": [
      "Function Approach 1: numpy method: 60\n",
      "Function Approach 2: `sum` as an instance method 60\n"
     ]
    }
   ],
   "source": [
    "approach_1 = np.sum(a1 * a2)\n",
    "approach_2 = (a1 * a2).sum()\n",
    "print(\"Function Approach 1: numpy method: {}\".format(approach_1))\n",
    "print(\"Function Approach 2: `sum` as an instance method {}\" .format(approach_2))"
   ]
  },
  {
   "cell_type": "code",
   "execution_count": 17,
   "metadata": {},
   "outputs": [
    {
     "name": "stdout",
     "output_type": "stream",
     "text": [
      "Builtin Approach 1: 60\n",
      "Builtin Approach 2: instance method 60\n"
     ]
    }
   ],
   "source": [
    "builtin_1 = np.dot(a1, a2)\n",
    "builtin_2 =  a1.dot(a2)\n",
    "print(\"Builtin Approach 1: {}\".format(builtin_1))\n",
    "print(\"Builtin Approach 2: instance method {}\".format(builtin_2))      "
   ]
  },
  {
   "cell_type": "code",
   "execution_count": 19,
   "metadata": {},
   "outputs": [
    {
     "name": "stdout",
     "output_type": "stream",
     "text": [
      "Direct calculation of L2 norm 9.486832980505138\n",
      "`lingalg` calculation of L2 norm 9.486832980505138\n"
     ]
    }
   ],
   "source": [
    "a1Mag = np.sqrt(a1.dot(a1)) ; a2Mag = np.sqrt(a2.dot(a2))\n",
    "print(\"Direct calculation of L2 norm {}\".format(a1Mag))\n",
    "a1MagM2 = np.linalg.norm(a1) ; a2MagM2 = np.linalg.norm(a2)\n",
    "print(\"`lingalg` calculation of L2 norm {}\".format(a1MagM2))"
   ]
  },
  {
   "cell_type": "code",
   "execution_count": 20,
   "metadata": {},
   "outputs": [
    {
     "name": "stdout",
     "output_type": "stream",
     "text": [
      "Angle (degrees) from dot product 0.8528028654224418\n",
      "Angle (radians) from dot product 0.5494672447576273\n"
     ]
    }
   ],
   "source": [
    "cosAngle = a1.dot(a2) / (a1Mag * a2Mag)\n",
    "print(\"Angle (degrees) from dot product {}\".format(cosAngle))\n",
    "angle = np.arccos(cosAngle)\n",
    "print(\"Angle (radians) from dot product {}\".format(angle))"
   ]
  },
  {
   "cell_type": "code",
   "execution_count": null,
   "metadata": {
    "collapsed": true
   },
   "outputs": [],
   "source": [
    "import numpy as np\n",
    "from datetime import datetime\n",
    "\n",
    "def loop_dot_product(a1, a2):\n",
    "    dot_product = 0\n",
    "    "
   ]
  }
 ],
 "metadata": {
  "kernelspec": {
   "display_name": "Python 3",
   "language": "python",
   "name": "python3"
  },
  "language_info": {
   "codemirror_mode": {
    "name": "ipython",
    "version": 3
   },
   "file_extension": ".py",
   "mimetype": "text/x-python",
   "name": "python",
   "nbconvert_exporter": "python",
   "pygments_lexer": "ipython3",
   "version": "3.6.3"
  }
 },
 "nbformat": 4,
 "nbformat_minor": 2
}
